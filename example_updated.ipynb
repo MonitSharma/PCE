{
 "cells": [
  {
   "cell_type": "code",
   "execution_count": 1,
   "metadata": {},
   "outputs": [
    {
     "name": "stdout",
     "output_type": "stream",
     "text": [
      "Max-Cut instance with 9 vertices saved to max_cut_instance.txt.\n"
     ]
    }
   ],
   "source": [
    "import random\n",
    "\n",
    "def generate_max_cut_instance(n, density=0.1, weighted=False):\n",
    "    \"\"\"\n",
    "    Generate a Max-Cut instance.\n",
    "\n",
    "    Parameters:\n",
    "        n (int): Number of vertices.\n",
    "        density (float): Probability of an edge existing between two vertices (default: 0.1).\n",
    "        weighted (bool): If True, generate weighted Max-Cut; otherwise, simple Max-Cut with weights -1 or 1.\n",
    "\n",
    "    Returns:\n",
    "        list: A list of edges in the format [(u, v, w), ...].\n",
    "    \"\"\"\n",
    "    edges = []\n",
    "\n",
    "    for u in range(1, n + 1):\n",
    "        for v in range(u + 1, n + 1):\n",
    "            # Add an edge with a probability determined by density\n",
    "            if random.random() < density:\n",
    "                if weighted:\n",
    "                    weight = random.randint(1, 10)  # Random weights for weighted Max-Cut\n",
    "                else:\n",
    "                    weight = random.choice([-1, 1])  # Randomly assign weights -1 or 1\n",
    "                edges.append((u, v, weight))\n",
    "\n",
    "    return edges\n",
    "\n",
    "def save_to_file(filename, edges):\n",
    "    \"\"\"\n",
    "    Save the Max-Cut instance to a file in the specified format.\n",
    "\n",
    "    Parameters:\n",
    "        filename (str): The name of the file to save the instance.\n",
    "        edges (list): List of edges in the format [(u, v, w), ...].\n",
    "    \"\"\"\n",
    "    with open(filename, \"w\") as f:\n",
    "        for u, v, w in edges:\n",
    "            f.write(f\"{u} {v} {w}\\n\")\n",
    "\n",
    "if __name__ == \"__main__\":\n",
    "    # Parameters\n",
    "    n = 9  # Number of vertices\n",
    "    density = 0.5  # Probability of edge existence\n",
    "    weighted = False  # Set to True for weighted Max-Cut\n",
    "    filename = \"max_cut_instance.txt\"\n",
    "\n",
    "    # Generate the instance\n",
    "    edges = generate_max_cut_instance(n, density, weighted)\n",
    "\n",
    "    # Save to a file\n",
    "    save_to_file(filename, edges)\n",
    "\n",
    "    print(f\"Max-Cut instance with {n} vertices saved to {filename}.\")\n"
   ]
  },
  {
   "cell_type": "code",
   "execution_count": null,
   "metadata": {},
   "outputs": [],
   "source": [
    "import src as vq"
   ]
  },
  {
   "cell_type": "code",
   "execution_count": null,
   "metadata": {},
   "outputs": [],
   "source": []
  },
  {
   "cell_type": "code",
   "execution_count": null,
   "metadata": {},
   "outputs": [],
   "source": []
  },
  {
   "cell_type": "code",
   "execution_count": null,
   "metadata": {},
   "outputs": [],
   "source": []
  },
  {
   "cell_type": "code",
   "execution_count": null,
   "metadata": {},
   "outputs": [],
   "source": []
  }
 ],
 "metadata": {
  "kernelspec": {
   "display_name": ".venv",
   "language": "python",
   "name": "python3"
  },
  "language_info": {
   "codemirror_mode": {
    "name": "ipython",
    "version": 3
   },
   "file_extension": ".py",
   "mimetype": "text/x-python",
   "name": "python",
   "nbconvert_exporter": "python",
   "pygments_lexer": "ipython3",
   "version": "3.10.11"
  }
 },
 "nbformat": 4,
 "nbformat_minor": 2
}
